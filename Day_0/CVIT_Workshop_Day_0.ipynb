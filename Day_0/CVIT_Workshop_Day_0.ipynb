{
  "nbformat": 4,
  "nbformat_minor": 0,
  "metadata": {
    "colab": {
      "name": "CVIT Workshop Day 1.ipynb",
      "provenance": [],
      "collapsed_sections": []
    },
    "kernelspec": {
      "name": "python3",
      "display_name": "Python 3"
    }
  },
  "cells": [
    {
      "cell_type": "code",
      "metadata": {
        "id": "7OD7VOMEHgWY",
        "colab_type": "code",
        "colab": {
          "base_uri": "https://localhost:8080/",
          "height": 68
        },
        "outputId": "dfdf56ed-6fd5-442c-d933-139f80b79d88"
      },
      "source": [
        "#Task 1\n",
        "l = list(range(10))\n",
        "print(l[::-1])\n",
        "print(l[-5::])\n",
        "print(l[:2]+l[3:])"
      ],
      "execution_count": 5,
      "outputs": [
        {
          "output_type": "stream",
          "text": [
            "[9, 8, 7, 6, 5, 4, 3, 2, 1, 0]\n",
            "[5, 6, 7, 8, 9]\n",
            "[0, 1, 3, 4, 5, 6, 7, 8, 9]\n"
          ],
          "name": "stdout"
        }
      ]
    },
    {
      "cell_type": "code",
      "metadata": {
        "id": "cyHEAB7vkpAY",
        "colab_type": "code",
        "colab": {}
      },
      "source": [
        "import numpy as np\n",
        "import matplotlib.pyplot as plt"
      ],
      "execution_count": 0,
      "outputs": []
    },
    {
      "cell_type": "markdown",
      "metadata": {
        "id": "PCtr0gFnHwUf",
        "colab_type": "text"
      },
      "source": [
        ""
      ]
    },
    {
      "cell_type": "code",
      "metadata": {
        "id": "2zFmWirhJxAH",
        "colab_type": "code",
        "colab": {
          "base_uri": "https://localhost:8080/",
          "height": 85
        },
        "outputId": "8813ed29-f9f0-4b8a-ec37-f4f907bfd330"
      },
      "source": [
        "x = dict([(pow(10,r),r) for r in range(10)])\n",
        "print(x)\n",
        "\n",
        "# Task 2.1: List all the keys inside the dict \n",
        "print(x.keys())\n",
        "\n",
        "# Task 2.2: Remove key 100 from the dict\n",
        "x.pop(100) \n",
        "print(x)\n",
        "\n",
        "# Task 2.3: Convert the above dict into a list of key, value tuple. Then sort the list based on mod of the key value with number 101\n",
        "l = list(x.items())\n",
        "l.sort(key= (lambda i: i[0]%101))\n",
        "print(l)"
      ],
      "execution_count": 15,
      "outputs": [
        {
          "output_type": "stream",
          "text": [
            "{1: 0, 10: 1, 100: 2, 1000: 3, 10000: 4, 100000: 5, 1000000: 6, 10000000: 7, 100000000: 8, 1000000000: 9}\n",
            "dict_keys([1, 10, 100, 1000, 10000, 100000, 1000000, 10000000, 100000000, 1000000000])\n",
            "{1: 0, 10: 1, 1000: 3, 10000: 4, 100000: 5, 1000000: 6, 10000000: 7, 100000000: 8, 1000000000: 9}\n",
            "[(1, 0), (10000, 4), (100000000, 8), (10, 1), (100000, 5), (1000000000, 9), (1000, 3), (10000000, 7), (1000000, 6)]\n"
          ],
          "name": "stdout"
        }
      ]
    },
    {
      "cell_type": "code",
      "metadata": {
        "id": "E16K4mndKNpI",
        "colab_type": "code",
        "colab": {
          "base_uri": "https://localhost:8080/",
          "height": 85
        },
        "outputId": "d9596fd2-7fbb-4b75-cae1-8c43e51a1bd9"
      },
      "source": [
        "#Task 3: Calculate inverse of a square matrix using np.svd, also verify the result.\n",
        "# I understood the procedure to solve this but my it is not clear.\n",
        "n = 2\n",
        "A = np.random.random((n,n))\n",
        "u, d, vh = np.linalg.svd(A)\n",
        "\n",
        "ainv = vh.T@np.diag(1/d)@u.T\n",
        "print(ainv)\n",
        "print(np.linalg.inv(A))"
      ],
      "execution_count": 23,
      "outputs": [
        {
          "output_type": "stream",
          "text": [
            "[[ -1.26618616   7.05869767]\n",
            " [ 14.23999076 -41.45265245]]\n",
            "[[ -1.26618616   7.05869767]\n",
            " [ 14.23999076 -41.45265245]]\n"
          ],
          "name": "stdout"
        }
      ]
    },
    {
      "cell_type": "code",
      "metadata": {
        "id": "HHNewfDHnasz",
        "colab_type": "code",
        "colab": {
          "base_uri": "https://localhost:8080/",
          "height": 282
        },
        "outputId": "f9061a65-a21b-44c1-c61e-b86cbed44b68"
      },
      "source": [
        "# Task 4: Create a sin plot which uses both plt.plot and plt.scatter. \n",
        "# Don't forget to add labels\n",
        "\n",
        "x = np.arange(0, 2 * np.pi, 0.1)\n",
        "x_sin = np.sin(x)\n",
        "plt.scatter(x,np.sin(x))\n",
        "plt.plot(x,x_sin,'-r')"
      ],
      "execution_count": 22,
      "outputs": [
        {
          "output_type": "execute_result",
          "data": {
            "text/plain": [
              "[<matplotlib.lines.Line2D at 0x7fd4f9298940>]"
            ]
          },
          "metadata": {
            "tags": []
          },
          "execution_count": 22
        },
        {
          "output_type": "display_data",
          "data": {
            "image/png": "[encoded data removed]",
            "text/plain": [
              "<Figure size 432x288 with 1 Axes>"
            ]
          },
          "metadata": {
            "tags": [],
            "needs_background": "light"
          }
        }
      ]
    },
    {
      "cell_type": "code",
      "metadata": {
        "id": "pnEfQc1i68wN",
        "colab_type": "code",
        "colab": {}
      },
      "source": [
        ""
      ],
      "execution_count": 0,
      "outputs": []
    }
  ]
}