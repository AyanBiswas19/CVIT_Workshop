{
  "nbformat": 4,
  "nbformat_minor": 0,
  "metadata": {
    "colab": {
      "name": "Day-7-Afternoon_Session.ipynb",
      "provenance": []
    },
    "kernelspec": {
      "name": "python3",
      "display_name": "Python 3"
    }
  },
  "cells": [
    {
      "cell_type": "code",
      "metadata": {
        "id": "QKOo3PZ0TDiG",
        "colab_type": "code",
        "colab": {}
      },
      "source": [
        "import numpy as np\n",
        "import pandas as pd\n",
        "import matplotlib.pyplot as plt\n",
        "from sklearn.metrics.pairwise import euclidean_distances\n",
        "from sklearn.datasets import make_circles"
      ],
      "execution_count": 0,
      "outputs": []
    },
    {
      "cell_type": "code",
      "metadata": {
        "id": "Ze-ul2xWTc9O",
        "colab_type": "code",
        "colab": {}
      },
      "source": [
        "np.random.seed(2)\n",
        "points = np.vstack((np.random.normal(0,0.5,size=(4,2)),np.random.normal(3,0.5,size=(4,2))))\n",
        "points = np.vstack((points, np.array([[1.5,1.5]])))\n",
        "points = np.vstack((points, np.array([[1.25,1.25]])))"
      ],
      "execution_count": 0,
      "outputs": []
    },
    {
      "cell_type": "code",
      "metadata": {
        "id": "AvO7Iwm5TLGB",
        "colab_type": "code",
        "colab": {}
      },
      "source": [
        "def plot_clusters(points, cluster_labels, show_annotation=True, offset = 0.01):\n",
        "  cluster_labels = np.array(cluster_labels)\n",
        "  colors = ['b', 'g', 'r', 'c', 'm', 'y', 'k', 'w']\n",
        "  num_clusters = np.unique(cluster_labels)\n",
        "\n",
        "  for i in range(len(num_clusters)):\n",
        "    plt.scatter(points[cluster_labels == i, 0],points[cluster_labels == i, 1], label=i)   #color = colors[num_clusters % len(colors)]\n",
        "  if show_annotation:\n",
        "    for c,(x,y) in enumerate(points):\n",
        "      plt.annotate(c,( x + offset, y + offset))\n",
        "  plt.legend()"
      ],
      "execution_count": 0,
      "outputs": []
    },
    {
      "cell_type": "code",
      "metadata": {
        "id": "w2lsvGEtUDQp",
        "colab_type": "code",
        "outputId": "bc674753-c649-4838-f003-751536ae14e3",
        "colab": {
          "base_uri": "https://localhost:8080/",
          "height": 265
        }
      },
      "source": [
        "labels = np.zeros(len(points))\n",
        "labels[2] = 1\n",
        "labels[5] = 2\n",
        "plot_clusters(points, labels)"
      ],
      "execution_count": 0,
      "outputs": [
        {
          "output_type": "display_data",
          "data": {
            "image/png": "[encoded data removed]",
            "text/plain": [
              "<Figure size 432x288 with 1 Axes>"
            ]
          },
          "metadata": {
            "tags": [],
            "needs_background": "light"
          }
        }
      ]
    },
    {
      "cell_type": "code",
      "metadata": {
        "id": "glPSLwEhUHg-",
        "colab_type": "code",
        "colab": {}
      },
      "source": [
        "def heatmap(grid, xlabels, ylabels, xrot=90):   \n",
        "    cmap = cm.get_cmap(\"viridis\")\n",
        "    plt.imshow(grid, cmap=cmap)\n",
        "    plt.xticks(np.arange(0,grid.shape[1],step=1), xlabels, rotation=xrot)\n",
        "    plt.yticks(np.arange(0, grid.shape[0], step=1), ylabels)"
      ],
      "execution_count": 0,
      "outputs": []
    },
    {
      "cell_type": "markdown",
      "metadata": {
        "id": "pI_aIOjVgl6F",
        "colab_type": "text"
      },
      "source": [
        "#Code  KMeans"
      ]
    },
    {
      "cell_type": "code",
      "metadata": {
        "id": "-WdTin4Mths3",
        "colab_type": "code",
        "colab": {}
      },
      "source": [
        "class KMeans:\n",
        "\n",
        "  def __init__(self,  points, k, centers = []):\n",
        "    self.points = points\n",
        "    self.K = k\n",
        "    self.initialize(centers)\n",
        "\n",
        "  def initialize(self, centers):\n",
        "    if len(centers) > 0:\n",
        "      self.centers = centers\n",
        "    else:\n",
        "      self.centers =  self.points[np.random.choice(len(self.points), self.K, replace = False)]\n",
        "    \n",
        "    return self.centers #return numpy array of K x 2\n",
        "\n",
        "  def assign(self):\n",
        "    d = euclidean_distances(self.points, self.centers)\n",
        "    self.labels = np.argmin(d, axis = 1)\n",
        "    return self.labels\n",
        "\n",
        "  def recalculate_cluster_centers(self):\n",
        "    centers = np.zeros((self.K,2))\n",
        "    for i in range(self.K):\n",
        "      kth_cluster = self.points[self.labels == i]\n",
        "      centers[i] = kth_cluster.mean(axis = 0)\n",
        "    self.centers = centers\n",
        "    return centers\n",
        "  \n",
        "  def fit(self):\n",
        "    initial_centers = self.centers.copy()\n",
        "    old_centers = np.zeros(self.centers.shape)\n",
        "\n",
        "    while not (old_centers == self.centers).all():\n",
        "      old_centers = self.centers.copy()\n",
        "      self.assign()\n",
        "      self.recalculate_cluster_centers()\n",
        "    return self.labels"
      ],
      "execution_count": 0,
      "outputs": []
    },
    {
      "cell_type": "code",
      "metadata": {
        "id": "WZTu4xtcwFiP",
        "colab_type": "code",
        "outputId": "cc4a0672-b494-479b-e423-3f78ad3ec068",
        "colab": {
          "base_uri": "https://localhost:8080/",
          "height": 265
        }
      },
      "source": [
        "np.random.seed(2)\n",
        "K = 5\n",
        "X = []\n",
        "for i in range(5):\n",
        "    X.append(np.random.normal(2**i,(i+1)/5, size=(20,2)))\n",
        "points = np.vstack(X)\n",
        "plot_clusters(points, np.zeros((points.shape[0])), show_annotation=False)\n",
        "\n",
        "kmeans = KMeans(points, 5)\n",
        "labels = kmeans.fit()\n",
        "plot_clusters(points, labels, show_annotation=False)"
      ],
      "execution_count": 0,
      "outputs": [
        {
          "output_type": "display_data",
          "data": {
            "image/png": "[encoded data removed]",
            "text/plain": [
              "<Figure size 432x288 with 1 Axes>"
            ]
          },
          "metadata": {
            "tags": [],
            "needs_background": "light"
          }
        }
      ]
    },
    {
      "cell_type": "markdown",
      "metadata": {
        "id": "zmqTYoE_57rp",
        "colab_type": "text"
      },
      "source": [
        "## Fitting circles to KMeans by maping $x, y$ to $x^2, y^2$ space."
      ]
    },
    {
      "cell_type": "code",
      "metadata": {
        "id": "uTczRwX-y9EF",
        "colab_type": "code",
        "outputId": "2b006344-74c2-4496-ae5f-fbde48ed594c",
        "colab": {
          "base_uri": "https://localhost:8080/",
          "height": 265
        }
      },
      "source": [
        "points, _ = make_circles(100, noise=0.06, factor=0.5)\n",
        "p_sq = points**2\n",
        "kmeans = KMeans(p_sq, 2)\n",
        "labels = kmeans.fit()\n",
        "plot_clusters(points, labels, show_annotation = False)"
      ],
      "execution_count": 0,
      "outputs": [
        {
          "output_type": "display_data",
          "data": {
            "image/png": "[encoded data removed]",
            "text/plain": [
              "<Figure size 432x288 with 1 Axes>"
            ]
          },
          "metadata": {
            "tags": [],
            "needs_background": "light"
          }
        }
      ]
    },
    {
      "cell_type": "code",
      "metadata": {
        "id": "lislhxNG60am",
        "colab_type": "code",
        "colab": {}
      },
      "source": [
        ""
      ],
      "execution_count": 0,
      "outputs": []
    }
  ]
}