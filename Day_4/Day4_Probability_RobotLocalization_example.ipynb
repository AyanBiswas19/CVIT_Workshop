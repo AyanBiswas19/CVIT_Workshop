{
  "nbformat": 4,
  "nbformat_minor": 0,
  "metadata": {
    "colab": {
      "name": "Day4-Probability_RobotLocalization_example",
      "provenance": []
    },
    "kernelspec": {
      "name": "python3",
      "display_name": "Python 3"
    }
  },
  "cells": [
    {
      "cell_type": "code",
      "metadata": {
        "id": "SgDvmWTbGPJa",
        "colab_type": "code",
        "colab": {}
      },
      "source": [
        "import numpy as np"
      ],
      "execution_count": 0,
      "outputs": []
    },
    {
      "cell_type": "markdown",
      "metadata": {
        "id": "-o7tHiTc6hGm",
        "colab_type": "text"
      },
      "source": [
        "#### Cancer Test Example\n",
        "Let us apply Bayes' Rule to a Cancer Test Example which is a very common example in Statistic classes.\n",
        "Suppose, there is a certain type of cancer which is extremely rare.\n",
        "\n",
        "Let,\n",
        "\\begin{equation}\n",
        "P(C) = 0.001\n",
        "\\end{equation}\n",
        "In other words, $1$ in every $1000$ people has this cancer. Can you compute the probability of not having cancer?\n",
        "\\begin{equation}\n",
        "P(\\neg C) = ?\n",
        "\\end{equation}\n",
        "\n",
        "The test for cancer is not $100\\%$ accurate. Let us say, probability of the test being positive given someone has cancer is,\n",
        "\\begin{equation}\n",
        "P(pos | C) = 0.8\n",
        "\\end{equation}\n",
        "Can you compute the probability that the test is negative given someone has cancer?\n",
        "\\begin{equation}\n",
        "P(neg | C) = ?\n",
        "\\end{equation}\n",
        "\n",
        "Similarly, the probability of a test being positive given that someone has no cancer is $P(pos | \\neg C) = 0.1$. Can you compute the probability that the test is negative given someone has no cancer?\n",
        "\\begin{equation}\n",
        "P(neg | \\neg C) = ?\n",
        "\\end{equation}\n",
        "\n",
        "Can you compute the following?\n",
        "\\begin{equation}\n",
        "P(C | pos) = ?\n",
        "\\end{equation}\n",
        "Interpret the quantity you computed in words!\n",
        "\n",
        "What we computed is very interesting. We computed probability of having cancer given the test results and how likely the disease is."
      ]
    },
    {
      "cell_type": "markdown",
      "metadata": {
        "id": "I0iPdR-y-aGV",
        "colab_type": "text"
      },
      "source": [
        "#Robot Localization Problem\n",
        "\n",
        "In this exercise we will apply basic concepts of probability and statistics to help a robot localise itself. Robot localization is an important task for any mobile robot as it needs to know where in the world it is currently situated in.\n",
        "\n",
        "You may think robot localization is a very easy problem as you can use GPS. But no! GPS has errors in localization upto a few metres which is very inaccurate for self driving cars.\n",
        "\n",
        "Hence, the robot needs to use sensors to locate itself. And sensors are noisy! Even the motion of a robot is uncertain.\n",
        "\n",
        "For the purposes of this exercise, let us assume that the world is a one dimensional world with $N$ grid cells. Each grid cell is colored either red or green which can be measured using a sensor located in the robot. However, the sensor measurements are noisy and hence we need to take a probabilitic approach to determine in which of these grid cells the robot is situated in at a given instant of time.\n",
        "\n",
        "![image](images/1.png)\n",
        "\n",
        "The robot can move either left or right in this **cyclic** world. This motion is uncertain as well prompting us again to take a probabilistic approach. For example you may instruct the robot to move $5$ cells. But it may move $4/6$ cells due to a wheel slip.\n",
        "\n",
        "When the robot is switched on, it is in a state of maximum confusion. It doesn't know where it is situated. We will model this state of maximum confusion as uniform distribution. \n",
        "In other words, the robot has equal belief of being present in any of the cells.\n",
        "\n",
        "Complete the below function to return an array where the $i^{th}$ array element is the probability that the robot is in the $i^{th}$ grid cell at time instant $0$ when the robot is switched on."
      ]
    },
    {
      "cell_type": "code",
      "metadata": {
        "id": "WKaYvKXt6iHG",
        "colab_type": "code",
        "colab": {}
      },
      "source": [
        "# Modify the empty list, p, so that it becomes a UNIFORM probability\n",
        "# distribution over n grid cells, as expressed in a list of \n",
        "# n probabilities.\n",
        "def init_distribution(n):\n",
        "    p = np.ones(n) / n\n",
        "    return p"
      ],
      "execution_count": 0,
      "outputs": []
    },
    {
      "cell_type": "code",
      "metadata": {
        "id": "X_TWpo2V96Q8",
        "colab_type": "code",
        "outputId": "ee0c61be-8976-4a6d-84df-4d0dec2f65d7",
        "colab": {
          "base_uri": "https://localhost:8080/",
          "height": 34
        }
      },
      "source": [
        "init_distribution(5)"
      ],
      "execution_count": 0,
      "outputs": [
        {
          "output_type": "execute_result",
          "data": {
            "text/plain": [
              "array([0.2, 0.2, 0.2, 0.2, 0.2])"
            ]
          },
          "metadata": {
            "tags": []
          },
          "execution_count": 13
        }
      ]
    },
    {
      "cell_type": "markdown",
      "metadata": {
        "id": "vfbRndIzAfod",
        "colab_type": "text"
      },
      "source": [
        "P(R|G) = 0.75\n",
        "\n",
        "P(G|G) = 0.25\n",
        "\n",
        "P(R|R) = 0.75\n",
        "\n",
        "P(G|R) = 0.25"
      ]
    },
    {
      "cell_type": "code",
      "metadata": {
        "id": "GhlucOGs-ZAp",
        "colab_type": "code",
        "outputId": "6c1284cf-16f9-4568-d30c-ff4248919425",
        "colab": {
          "base_uri": "https://localhost:8080/",
          "height": 51
        }
      },
      "source": [
        "#Modify the code below so that the function sense, which \n",
        "#takes p and Z as inputs, will output the normalized \n",
        "#probability distribution, q, after multiplying the entries \n",
        "# in p according to the color in the corresponding cell in world,\n",
        "# followed by normalization of the probability values\n",
        "world=['green', 'red', 'red', 'green', 'green']\n",
        "p = np.array([0.2, 0.2, 0.2, 0.2, 0.2])\n",
        "\n",
        "p_rg = 0.75\n",
        "p_gg = 0.25\n",
        "p_rr = 0.7\n",
        "p_gr = 0.25\n",
        "\n",
        "def sense(p, Z):\n",
        "    q = np.zeros(len(p))\n",
        "    # Add your code here\n",
        "    for i in range(len(p)):\n",
        "      if Z == world[i]:\n",
        "        q[i] = p[i] * .75\n",
        "      else:\n",
        "        q[i] = p[i] * .25\n",
        "    # End your code here\n",
        "    q = q/q.sum()\n",
        "    return q\n",
        "            \n",
        "print(sense(p, 'red'))\n",
        "print(sense(p, 'green'))"
      ],
      "execution_count": 0,
      "outputs": [
        {
          "output_type": "stream",
          "text": [
            "[0.11111111 0.33333333 0.33333333 0.11111111 0.11111111]\n",
            "[0.27272727 0.09090909 0.09090909 0.27272727 0.27272727]\n"
          ],
          "name": "stdout"
        }
      ]
    },
    {
      "cell_type": "code",
      "metadata": {
        "id": "Y__WVyxXDW5d",
        "colab_type": "code",
        "outputId": "a56925da-bb3a-4e97-9629-badda557afa9",
        "colab": {
          "base_uri": "https://localhost:8080/",
          "height": 34
        }
      },
      "source": [
        "#Modify the code so that it updates the probability twice\n",
        "#and gives the posterior distribution after both \n",
        "#measurements are incorporated. Make sure that your code \n",
        "#allows for any sequence of measurement of any length.\n",
        "\n",
        "# DO NOT MODIFY THE SENSE FUNCTION. JUST CALL THE SENSE FUNCTION APPROPRIATELY\n",
        "\n",
        "p=[0.2, 0.2, 0.2, 0.2, 0.2]\n",
        "world=['green', 'red', 'red', 'green', 'green']\n",
        "measurements = ['red', 'green']\n",
        "\n",
        "# Add your code here\n",
        "p = np.array(p)\n",
        "for measurement in measurements:\n",
        "  p = sense(p,measurement)\n",
        "# End your code here\n",
        "print(p)"
      ],
      "execution_count": 0,
      "outputs": [
        {
          "output_type": "stream",
          "text": [
            "[0.2 0.2 0.2 0.2 0.2]\n"
          ],
          "name": "stdout"
        }
      ]
    },
    {
      "cell_type": "code",
      "metadata": {
        "id": "isORkzvgGNCl",
        "colab_type": "code",
        "outputId": "6a85eff4-db01-4eae-80eb-62015d0b7226",
        "colab": {
          "base_uri": "https://localhost:8080/",
          "height": 34
        }
      },
      "source": [
        "#Program a function that returns a new distribution \n",
        "#q, shifted to the right by U units. If U=0, q should \n",
        "#be the same as p.\n",
        "\n",
        "def move_exact(p, U):\n",
        "    q = np.zeros(len(p))\n",
        "    # ADD CODE HERE\n",
        "    for i in range(len(p)):\n",
        "      q[(i+U)%len(p)] = p[i]\n",
        "    # END CODE HERE\n",
        "    return q\n",
        "\n",
        "def move(p, U):\n",
        "     return .1*move_exact(p,U-1) + .8 * move_exact(p,U) + .1 * move_exact(p,U+1)\n",
        "\n",
        "# move([0.11, 0.33, 0.33, 0.11, 0.11], 1)\n",
        "move([0, 1.0, 0, 0, 0], 1)"
      ],
      "execution_count": 0,
      "outputs": [
        {
          "output_type": "execute_result",
          "data": {
            "text/plain": [
              "array([0. , 0.1, 0.8, 0.1, 0. ])"
            ]
          },
          "metadata": {
            "tags": []
          },
          "execution_count": 27
        }
      ]
    },
    {
      "cell_type": "code",
      "metadata": {
        "id": "rReqTm8BGOGR",
        "colab_type": "code",
        "outputId": "5ec64a21-9016-486f-fe80-d7a1bd91bda5",
        "colab": {
          "base_uri": "https://localhost:8080/",
          "height": 34
        }
      },
      "source": [
        "# Write code that makes the robot move twice and then prints \n",
        "# out the resulting distribution, starting with the initial \n",
        "# distribution p = [0, 1, 0, 0, 0]\n",
        "\n",
        "def move_stepwise(p, U):\n",
        "  for i in range(U):\n",
        "    p = move(p,1)\n",
        "  return p\n",
        "\n",
        "move_stepwise([0, 1.0, 0, 0, 0], 2)"
      ],
      "execution_count": 0,
      "outputs": [
        {
          "output_type": "execute_result",
          "data": {
            "text/plain": [
              "array([0.01, 0.01, 0.16, 0.66, 0.16])"
            ]
          },
          "metadata": {
            "tags": []
          },
          "execution_count": 29
        }
      ]
    },
    {
      "cell_type": "code",
      "metadata": {
        "id": "O69Xsr4RWLr6",
        "colab_type": "code",
        "colab": {}
      },
      "source": [
        "#Given the list motions=[1,1] which means the robot \n",
        "#moves right and then right again, compute the posterior \n",
        "#distribution if the robot first senses red, then moves \n",
        "#right one, then senses green, then moves right again, \n",
        "#starting with a uniform prior distribution.\n",
        "\n",
        "world=['green', 'red', 'red', 'green', 'green']\n",
        "measurements = ['red', 'green']\n",
        "motions = [1,1]\n",
        "\n",
        "p = init_distribution(len(world))\n",
        "# ADD CODE HERE\n",
        "def move_and_sense(p, measurements, motions):\n",
        "  for measurement, motion in zip(measurements, motions):\n",
        "    p = sense(p, measurement)\n",
        "    p = move(p,motion)\n",
        "  return p\n",
        "\n",
        "move_and_sense(p, measurements, motions)"
      ],
      "execution_count": 0,
      "outputs": []
    },
    {
      "cell_type": "code",
      "metadata": {
        "id": "DTiDdy3PYjAu",
        "colab_type": "code",
        "colab": {}
      },
      "source": [
        ""
      ],
      "execution_count": 0,
      "outputs": []
    }
  ]
}